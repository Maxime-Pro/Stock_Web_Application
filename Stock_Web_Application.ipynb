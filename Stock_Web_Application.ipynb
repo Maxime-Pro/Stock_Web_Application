{
 "cells": [
  {
   "cell_type": "raw",
   "metadata": {},
   "source": [
    "Description : This is a stock price dashboard to show some charts and data on some stock "
   ]
  },
  {
   "cell_type": "code",
   "execution_count": 18,
   "metadata": {},
   "outputs": [],
   "source": [
    "import streamlit as st \n",
    "import pandas as pd \n",
    "from PIL import Image "
   ]
  },
  {
   "cell_type": "code",
   "execution_count": 19,
   "metadata": {},
   "outputs": [
    {
     "data": {
      "text/plain": [
       "<streamlit.delta_generator.DeltaGenerator at 0x7ffe0ce782b0>"
      ]
     },
     "execution_count": 19,
     "metadata": {},
     "output_type": "execute_result"
    }
   ],
   "source": [
    "st.write(\"\"\" Stock Market Web Application \"\"\")\n",
    "st.sidebar.header('User Input')"
   ]
  },
  {
   "cell_type": "code",
   "execution_count": 20,
   "metadata": {},
   "outputs": [],
   "source": [
    "#Create a function to get the users input \n",
    "\n",
    "def get_input():\n",
    "    start_date = st.sidebar.text_input(\"Start Date\", \"2020-01-02\")\n",
    "    end_date = st.sidebar.text_input(\"End Date\", \"2020-11-17\")\n",
    "    stock_symbol = st.sidebar.text_input(\"Stock Symbol\", \"AMZN\")\n",
    "    return start_date, end_date, stock_symbol"
   ]
  },
  {
   "cell_type": "code",
   "execution_count": 21,
   "metadata": {},
   "outputs": [],
   "source": [
    "#Create a function to get company name\n",
    "\n",
    "def get_company_name(symbol):\n",
    "    if symbol == 'AMZN': \n",
    "        return 'Amazon'\n",
    "    elif symbol == 'TSLA':\n",
    "        return 'Tesla'\n",
    "    elif symbol == 'GOOG':\n",
    "        return 'Alphabet'\n",
    "    else: \n",
    "        'None'"
   ]
  },
  {
   "cell_type": "code",
   "execution_count": 22,
   "metadata": {},
   "outputs": [],
   "source": [
    "#Create a function to get the proper company data and the proper timeframe from the user start date to the users end date \n",
    "\n",
    "def get_data(symbol, start, end):\n",
    "    \n",
    "    #Load the data\n",
    "    if symbol.upper() == 'AMZN':\n",
    "        df = pd.read_csv(\"AMZN.csv\")\n",
    "    elif symbol.upper() == 'TSLA':\n",
    "        df = pd.read_csv(\"TSLA.csv\")\n",
    "    elif symbol.upper() == 'GOOG':\n",
    "        df = pd.read_csv(\"GOOG.csv\")\n",
    "    else: \n",
    "        df = pd.DataFrame(columns = ['Date', 'Open', 'High', 'Low', 'Close', 'Adj Close', 'Volume'])\n",
    "    \n",
    "    #Get the data range \n",
    "    start = pd.to_datetime(start)\n",
    "    end = pd.to_datetime(end)\n",
    "    \n",
    "    start_row = 0\n",
    "    end_row = 0 \n",
    "    \n",
    "    for i in range(0, len(df)):\n",
    "        if start <= pd.to_datetime(df['Date'][i]):\n",
    "            start_row = i \n",
    "            break\n",
    "    \n",
    "    for j in range(0, len(df)):\n",
    "        if end >= pd.to_datetime(df['Date'][len(df)-1-j]):\n",
    "            end_row = len(df)-1-j\n",
    "            break \n",
    "    \n",
    "    df = df.set_index(pd.DatetimeIndex(df['Date'].values))\n",
    "    \n",
    "    return df.iloc[start_row:end_row + 1, :]"
   ]
  },
  {
   "cell_type": "code",
   "execution_count": 23,
   "metadata": {},
   "outputs": [],
   "source": [
    "#Get the users input \n",
    "start, end, symbol = get_input()\n",
    "\n",
    "#Get the data \n",
    "df = get_data(symbol, start, end)\n",
    "\n",
    "#Get the company name \n",
    "company_name = get_company_name(symbol.upper())"
   ]
  },
  {
   "cell_type": "code",
   "execution_count": 26,
   "metadata": {},
   "outputs": [],
   "source": [
    "#Display the close price \n",
    "st.header(company_name + 'Close Price \\n')\n",
    "st.line_chart(df['Close'])\n",
    "\n",
    "#Display the volume \n",
    "st.header(company_name + 'Volume \\n')\n",
    "st.line_chart(df['Volume'])\n",
    "\n",
    "#Get statictics \n",
    "st.header('Data Statistics')\n",
    "st.write(df.describe())\n"
   ]
  }
 ],
 "metadata": {
  "kernelspec": {
   "display_name": "Python 3",
   "language": "python",
   "name": "python3"
  },
  "language_info": {
   "codemirror_mode": {
    "name": "ipython",
    "version": 3
   },
   "file_extension": ".py",
   "mimetype": "text/x-python",
   "name": "python",
   "nbconvert_exporter": "python",
   "pygments_lexer": "ipython3",
   "version": "3.8.5"
  }
 },
 "nbformat": 4,
 "nbformat_minor": 4
}
